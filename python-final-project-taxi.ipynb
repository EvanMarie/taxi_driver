{
 "cells": [
  {
   "cell_type": "markdown",
   "id": "f69b00fe",
   "metadata": {},
   "source": [
    "# Evan Marie Carr - Course Final Project \n",
    "### for Jovian's Data Structures and Algorithms"
   ]
  },
  {
   "cell_type": "code",
   "execution_count": 177,
   "id": "744d20a7",
   "metadata": {},
   "outputs": [],
   "source": [
    "project_name = \"Evan Marie Carr - Course Final Project\""
   ]
  },
  {
   "cell_type": "code",
   "execution_count": 178,
   "id": "eac769e2",
   "metadata": {},
   "outputs": [],
   "source": [
    "!pip install jovian --upgrade --quiet"
   ]
  },
  {
   "cell_type": "code",
   "execution_count": 179,
   "id": "2975f102",
   "metadata": {},
   "outputs": [],
   "source": [
    "import jovian"
   ]
  },
  {
   "cell_type": "code",
   "execution_count": 180,
   "id": "2ff04927",
   "metadata": {},
   "outputs": [
    {
     "data": {
      "application/javascript": [
       "window.require && require([\"base/js/namespace\"],function(Jupyter){Jupyter.notebook.save_checkpoint()})"
      ],
      "text/plain": [
       "<IPython.core.display.Javascript object>"
      ]
     },
     "metadata": {},
     "output_type": "display_data"
    },
    {
     "name": "stdout",
     "output_type": "stream",
     "text": [
      "[jovian] Updating notebook \"evanmarie/evan-marie-carr-course-final-project-data-structures-and-algorithms\" on https://jovian.ai\u001b[0m\n",
      "[jovian] Committed successfully! https://jovian.ai/evanmarie/evan-marie-carr-course-final-project-data-structures-and-algorithms\u001b[0m\n"
     ]
    },
    {
     "data": {
      "text/plain": [
       "'https://jovian.ai/evanmarie/evan-marie-carr-course-final-project-data-structures-and-algorithms'"
      ]
     },
     "execution_count": 180,
     "metadata": {},
     "output_type": "execute_result"
    }
   ],
   "source": [
    "jovian.commit(project=\"Evan Marie Carr - Course Final Project (Data Structures and Algorithms)\")"
   ]
  },
  {
   "cell_type": "markdown",
   "id": "d82e7735",
   "metadata": {},
   "source": [
    "## MAXIMUM EARNINGS from TAXI\n",
    "<b>SOURCE:</b> Leet Codes => https://leetcode.com/problems/maximum-earnings-from-taxi/\n",
    "\n",
    "There are n points on a road you are driving your taxi on. The n points on the road are labeled from 1 to n in the direction you are going, and you want to drive from point 1 to point n to make money by picking up passengers. You cannot change the direction of the taxi.\n",
    "\n",
    "The passengers are represented by a 0-indexed 2D integer array rides, where rides[i] = [start[i], end[i], tip[i]] denotes the ith passenger requesting a ride from point start[i] to point end[i] who is willing to give a tip[i] dollar tip.\n",
    "\n",
    "For each passenger i you pick up, you earn end[i] - start[i] + tip[i] dollars. You may only drive at most one passenger at a time.\n",
    "\n",
    "Given n and rides, return the maximum number of dollars you can earn by picking up the passengers optimally.\n",
    "\n",
    "Note: You may drop off a passenger and pick up a different passenger at the same point.\n",
    "\n",
    "<b>Constraints:<br></b>\n",
    "    * 1 <= n <= 105<br>\n",
    "    * 1 <= rides.length <= 3 * 104<br>\n",
    "    * rides[i].length == 3<br>\n",
    "    * 1 <= start[i] < end[i] <= n<br>\n",
    "    * 1 <= tip[i] <= 105<br>"
   ]
  },
  {
   "cell_type": "markdown",
   "id": "65acc20d",
   "metadata": {},
   "source": [
    "## Solution\n",
    "\n",
    "\n",
    "### 1. State the problem clearly. Identify the input & output formats.\n",
    "\n",
    "* This function must take in arrays of numbers and calculate the best possible combination therefrom that will result in the most money made.\n",
    "* Money/scoring is calculated by destination minus origin (start - end) plus tip for each passenger\n",
    "* The driver can only drive the path one time and in one direction from start to N\n",
    "* The driver may only drive one passenger at a time.\n",
    "* The driver may drop off one passenger and pick up another at the same point.\n",
    "\n",
    "\n",
    "\n",
    "**Input**\n",
    "\n",
    "1. n, which is the total number of points along the road that the driver can drive in one direction only, 1 to n.\n",
    "2. rides, a two dimensional integer array of passengers. Inside of each passenger item is an array of 3 integers, the first of which represents the point at which they need to start their ride, the second is where they need to end their ride, and the third is the amount of money they are willing to tip for that ride.\n",
    "\n",
    "\n",
    "**Output**\n",
    "\n",
    "1. An integer representing the most money the driver can possibly make considering the inputs, i.e. the riders, their origin and destinations, and their tips. \n",
    "\n",
    "\n",
    "<br/>\n",
    "\n",
    "Based on the above, this is the signature of the function:"
   ]
  },
  {
   "cell_type": "code",
   "execution_count": 181,
   "id": "42ef0949",
   "metadata": {},
   "outputs": [],
   "source": [
    "def maximum_taxi_earnings():\n",
    "    pass"
   ]
  },
  {
   "cell_type": "markdown",
   "id": "3e57f17d",
   "metadata": {},
   "source": [
    "Save and upload your work before continuing."
   ]
  },
  {
   "cell_type": "code",
   "execution_count": 182,
   "id": "49cdd5eb",
   "metadata": {},
   "outputs": [],
   "source": [
    "import jovian"
   ]
  },
  {
   "cell_type": "code",
   "execution_count": 183,
   "id": "ac2db4cb",
   "metadata": {},
   "outputs": [
    {
     "data": {
      "application/javascript": [
       "window.require && require([\"base/js/namespace\"],function(Jupyter){Jupyter.notebook.save_checkpoint()})"
      ],
      "text/plain": [
       "<IPython.core.display.Javascript object>"
      ]
     },
     "metadata": {},
     "output_type": "display_data"
    },
    {
     "name": "stdout",
     "output_type": "stream",
     "text": [
      "[jovian] Updating notebook \"evanmarie/evan-marie-carr-course-final-project-data-structures-and-algorithms\" on https://jovian.ai\u001b[0m\n",
      "[jovian] Committed successfully! https://jovian.ai/evanmarie/evan-marie-carr-course-final-project-data-structures-and-algorithms\u001b[0m\n"
     ]
    },
    {
     "data": {
      "text/plain": [
       "'https://jovian.ai/evanmarie/evan-marie-carr-course-final-project-data-structures-and-algorithms'"
      ]
     },
     "execution_count": 183,
     "metadata": {},
     "output_type": "execute_result"
    }
   ],
   "source": [
    "jovian.commit()"
   ]
  },
  {
   "cell_type": "markdown",
   "id": "96e8de40",
   "metadata": {},
   "source": [
    "### 2. Example inputs & outputs to cover all edge cases.\n",
    "\n",
    "Our function should be able to handle any set of valid inputs we pass into it. Here's a list of some possible variations we might encounter:\n",
    "\n",
    "1. A passenger's desired route goes backwards from the direction driver is allowed to go\n",
    "2. Multiple passengers equal the same cost/benefit\n",
    "3. All passengers have destinations that are outside of the driver's available path (i.e. > n)\n",
    "4. All passengers' paths overlap greatly\n",
    "5. All passengers have destinations beyond n\n",
    "6. Multiple passengers have same exact route."
   ]
  },
  {
   "cell_type": "markdown",
   "id": "fe356e08",
   "metadata": {},
   "source": [
    "## TEST CASES:"
   ]
  },
  {
   "cell_type": "code",
   "execution_count": 184,
   "id": "2d1a7b2f",
   "metadata": {},
   "outputs": [],
   "source": [
    "# Generic test case (from problem's author), not edge\n",
    "\n",
    "test01 = {\n",
    "    'input': {\n",
    "        'n': 5, \n",
    "        'rides': [[2,5,4],[1,5,1]]\n",
    "    },\n",
    "    'output': 7\n",
    "}"
   ]
  },
  {
   "cell_type": "code",
   "execution_count": 185,
   "id": "4cdb0c13",
   "metadata": {},
   "outputs": [],
   "source": [
    "# Generic test case (from problem's author), not edge\n",
    "\n",
    "test02 = {\n",
    "    'input': {\n",
    "        'n': 20, \n",
    "        'rides': [[1,6,1],[3,10,2],[10,12,3],[11,12,2],[12,15,2],[13,18,1]]\n",
    "    },\n",
    "    'output': 20\n",
    "}"
   ]
  },
  {
   "cell_type": "code",
   "execution_count": 186,
   "id": "11eef2b0",
   "metadata": {},
   "outputs": [],
   "source": [
    "# EDGE CASE: One passenger has a destination beyond n\n",
    "\n",
    "test03 = {\n",
    "    'input': {\n",
    "        'n': 17, \n",
    "        'rides': [[0, 3, 5],[2, 6, 4], [4, 15, 5], [7, 19, 6]]\n",
    "    },\n",
    "    'output': 24\n",
    "}"
   ]
  },
  {
   "cell_type": "code",
   "execution_count": 187,
   "id": "7de85cd2",
   "metadata": {},
   "outputs": [],
   "source": [
    "# EDGE CASE: All passengers have destinations beyond n\n",
    "\n",
    "test04 = {\n",
    "    'input': {\n",
    "        'n': 12, \n",
    "        'rides': [[1, 13, 3],[2, 16, 6], [5, 18, 6]]\n",
    "    },\n",
    "    'output': 0\n",
    "}"
   ]
  },
  {
   "cell_type": "code",
   "execution_count": 188,
   "id": "fe8324f4",
   "metadata": {},
   "outputs": [],
   "source": [
    "# General Testing\n",
    "\n",
    "test05 = {\n",
    "    'input': {\n",
    "        'n': 23, \n",
    "        'rides': [[0, 3, 1], [3, 10, 5], [7, 15, 3], [12, 24, 5]]\n",
    "    },\n",
    "    'output': 16\n",
    "}"
   ]
  },
  {
   "cell_type": "code",
   "execution_count": 189,
   "id": "8c0c3585",
   "metadata": {},
   "outputs": [],
   "source": [
    "# General Testing\n",
    "\n",
    "test06 = {\n",
    "    'input': {\n",
    "        'n': 18, \n",
    "        'rides': [[1, 9, 2],[4, 12, 5], [9, 15, 6], [5, 8, 3], [12, 17, 5], [15, 18, 2]]\n",
    "    },\n",
    "    'output': 27\n",
    "}"
   ]
  },
  {
   "cell_type": "code",
   "execution_count": 190,
   "id": "905881ee",
   "metadata": {},
   "outputs": [],
   "source": [
    "# General Testing\n",
    "\n",
    "test07 = {\n",
    "    'input': {\n",
    "        'n': 19, \n",
    "        'rides': [[0, 5, 3], [5, 10, 5], [8, 12, 1], [10, 13, 4], [13, 18, 4], [14, 19, 3]]\n",
    "    },\n",
    "    'output': 34\n",
    "}"
   ]
  },
  {
   "cell_type": "code",
   "execution_count": 191,
   "id": "6173c696",
   "metadata": {},
   "outputs": [],
   "source": [
    "# EDGE CASE: All but one passenger overlaps with others for the most part\n",
    "test08 = {\n",
    "    'input': {\n",
    "        'n': 22, \n",
    "        'rides': [[0, 4, 2], [3, 7, 2], [6, 12, 4], [11, 18, 5], [17, 22, 4], [2, 19, 5]]\n",
    "    },\n",
    "    'output': 25\n",
    "}"
   ]
  },
  {
   "cell_type": "code",
   "execution_count": 192,
   "id": "de0f16bd",
   "metadata": {},
   "outputs": [],
   "source": [
    "# EDGE CASES: Multiple passengers have same cost/benefit numbers or paths that ultimately \n",
    "# benefit the driver the same amount\n",
    "test09 = {\n",
    "    'input': {\n",
    "        'n': 19, \n",
    "        'rides': [[0, 5, 1], [5, 9, 2], [6, 10, 3], [10, 5, 3], [7, 18, 5], [8, 19, 7]]\n",
    "    },\n",
    "    'output': 24\n",
    "}"
   ]
  },
  {
   "cell_type": "code",
   "execution_count": 193,
   "id": "32325e8e",
   "metadata": {},
   "outputs": [],
   "source": [
    "# EDGE CASES: Multiple passengers have exact same route\n",
    "\n",
    "test10 = {\n",
    "    'input': {\n",
    "        'n': 20, \n",
    "        'rides': [[1, 6, 1], [3, 10, 2], [3, 10, 2],[10, 12, 3], [11, 12, 2], [12, 15, 2], [13, 18, 1]]\n",
    "    },\n",
    "    'output': 20\n",
    "}"
   ]
  },
  {
   "cell_type": "markdown",
   "id": "075fe45c",
   "metadata": {},
   "source": [
    "Test cases stored array called `tests`."
   ]
  },
  {
   "cell_type": "code",
   "execution_count": 194,
   "id": "2888a6ac",
   "metadata": {},
   "outputs": [],
   "source": [
    "tests = [test01, test02, test03, test04, test05, test06, test07, test08, test09, test10]"
   ]
  },
  {
   "cell_type": "markdown",
   "id": "1098f38b",
   "metadata": {},
   "source": [
    "### 3. Come up with a correct solution for the problem. State it in plain English.\n",
    "\n",
    "Our first goal should always be to come up with a _correct_ solution to the problem, which may not necessarily be the most _efficient_ solution. Come with a correct solution and explain it in simple words below:\n",
    "\n",
    "1. Create a function / set of functions that calculates the overall best cost-benefit ration for the taxi driver, thus leading to the greatest possible monetary gain based on the passengers, their routes, and their tip amount.\n",
    "2. Create a data structure that holds each passenger's origin, destination, and sum benefit (route length + tip)\n",
    "3. Calculate the benefit also based on how much of the route they leave the driver available to accommodate other passengers, thereby making more money.\n",
    "4. Create an algorithm that, given the above information will calculate a passenger's overall score as compared to other passengers.\n",
    "5. Choose the passenger's who, when combined, give the driver the most monetary gain."
   ]
  },
  {
   "cell_type": "code",
   "execution_count": 195,
   "id": "f007c992",
   "metadata": {},
   "outputs": [
    {
     "data": {
      "application/javascript": [
       "window.require && require([\"base/js/namespace\"],function(Jupyter){Jupyter.notebook.save_checkpoint()})"
      ],
      "text/plain": [
       "<IPython.core.display.Javascript object>"
      ]
     },
     "metadata": {},
     "output_type": "display_data"
    },
    {
     "name": "stdout",
     "output_type": "stream",
     "text": [
      "[jovian] Updating notebook \"evanmarie/evan-marie-carr-course-final-project-data-structures-and-algorithms\" on https://jovian.ai\u001b[0m\n",
      "[jovian] Committed successfully! https://jovian.ai/evanmarie/evan-marie-carr-course-final-project-data-structures-and-algorithms\u001b[0m\n"
     ]
    },
    {
     "data": {
      "text/plain": [
       "'https://jovian.ai/evanmarie/evan-marie-carr-course-final-project-data-structures-and-algorithms'"
      ]
     },
     "execution_count": 195,
     "metadata": {},
     "output_type": "execute_result"
    }
   ],
   "source": [
    "jovian.commit()"
   ]
  },
  {
   "cell_type": "markdown",
   "id": "fdb50f6c",
   "metadata": {},
   "source": [
    "###  4. Implement the solution and test it using example inputs. Fix bugs, if any."
   ]
  },
  {
   "cell_type": "code",
   "execution_count": 196,
   "id": "6e2a27b6",
   "metadata": {},
   "outputs": [],
   "source": [
    "\n",
    "def calculate_passenger_benefit(n, rides):\n",
    "    '''Calculates the monetary benefit of each passenger itself, irrespective of other passengers'''\n",
    "    \n",
    "    # Dictionary to store the info about each passenger plus their benefit\n",
    "    passenger_benefits = {}\n",
    "    \n",
    "    # Loop through passengers, creating dictionary\n",
    "    for passenger in rides:\n",
    "        \n",
    "        # If the passenger is going the right direction and does not exceed driver's allowed end point\n",
    "        if passenger[1] - passenger[0] >= 0 and passenger[1] <= n:\n",
    "            \n",
    "            # If passengers are identical, do not add the duplicate\n",
    "            if passenger not in passenger_benefits:\n",
    "                passenger_benefits[passenger] = passenger[1] - passenger[0] + passenger[2]\n",
    "    \n",
    "    return passenger_benefits\n",
    "\n"
   ]
  },
  {
   "cell_type": "code",
   "execution_count": 197,
   "id": "c6c5dabd",
   "metadata": {
    "scrolled": true
   },
   "outputs": [],
   "source": [
    "\n",
    "def passenger_compatibility(rides):\n",
    "    \"\"\"Determines the compatibility of passengers within the rides list, connecting those that\n",
    "    do not overlap with a compatibility edge.\"\"\"\n",
    "\n",
    "    # List of passengers whose routes are compatible with one another and can be considered\n",
    "    # for the best route\n",
    "    compatibles = []\n",
    "    \n",
    "    # Loop through rides and check whether or not the passenger at the current index is\n",
    "    # compatible with the rest of the passengers in the prospective passengers list, rides.\n",
    "    for index_1, passenger_1 in enumerate(rides):\n",
    "        for index_2, passenger_2 in enumerate(rides[index_1 + 1:]):\n",
    "            if not (passenger_1[0] < passenger_2[0] < passenger_1[1] or\n",
    "                    passenger_1[0] < passenger_2[1] < passenger_1[1] or\n",
    "                    passenger_2[0] < passenger_1[1] < passenger_2[1]):\n",
    "                \n",
    "                # If passengers are compatible, append compatibles with a tuple containing\n",
    "                # the two\n",
    "                compatibles.append((passenger_1, passenger_2))\n",
    "    \n",
    "    return compatibles\n",
    "\n",
    "\n"
   ]
  },
  {
   "cell_type": "code",
   "execution_count": 204,
   "id": "5a99870f",
   "metadata": {},
   "outputs": [],
   "source": [
    "\n",
    "def passenger_node_table(passenger_benefits, compatibles):\n",
    "    \"\"\"Constructs the node table for the passengers.\"\"\"\n",
    "\n",
    "    # Dictionary with key, passenger, with values which are dictionaries with key, neighbor,\n",
    "    # and value, neighbor benefit\n",
    "    passenger_neighbors = {}\n",
    "\n",
    "    # Loop through passengers in the benefits list\n",
    "    for passenger in passenger_benefits:\n",
    "\n",
    "        # The values inside of passenger_neighbors will be dictionaries with neighbors as keys\n",
    "        # and the calculated benefit of that neighbor as a segment of the driver's route\n",
    "        passenger_neighbors[passenger] = {}\n",
    "\n",
    "        # Looping through the edges (compatibilities between passengers)\n",
    "        for edge in compatibles:\n",
    "\n",
    "            # If this passenger has a compatibility with another, add it as a neighbor to the\n",
    "            # if neighbor and passenger are not the same passenger\n",
    "            if passenger in edge:\n",
    "                try:\n",
    "                    passenger_neighbors[passenger].update({neighbor: passenger_benefits[neighbor]\n",
    "                                                       for neighbor in edge if neighbor != passenger and\n",
    "                                                       neighbor[0] >= passenger[0]})\n",
    "                except KeyError:\n",
    "                    pass\n",
    "\n",
    "    return passenger_neighbors\n",
    "\n"
   ]
  },
  {
   "cell_type": "code",
   "execution_count": 205,
   "id": "3884f5d8",
   "metadata": {},
   "outputs": [],
   "source": [
    "\n",
    "def get_best_route(initial_neighbors, node_table):\n",
    "    '''Take the passenger_benefits and node_table and construct and choose the best route.'''\n",
    "\n",
    "    # starting from current passenger being considered, what is the sub-route score,\n",
    "    # allowing for cache and optimization of big O\n",
    "    sub_route_score = {}\n",
    "\n",
    "    def best(neighbors, score=0, route=()):\n",
    "        \"\"\"Recursive function to find the best route.\"\"\"\n",
    "        max_score = 0\n",
    "        best_route = tuple()\n",
    "\n",
    "        # If this is the last passenger, return the score of this passenger\n",
    "        if len(neighbors) == 0:\n",
    "            return score, route\n",
    "\n",
    "        # Looping through the neighbors of the passenger to find the one\n",
    "        # offering the best route forward\n",
    "        for neighbor in neighbors:\n",
    "            potential, potential_route = best(node_table[neighbor], neighbors[neighbor], route + (neighbor,))\n",
    "\n",
    "            # if the potential score with this neighbor is greater than the max score,\n",
    "            # set the max score to the potential and add to the best route\n",
    "            if potential > max_score:\n",
    "                max_score = potential\n",
    "                best_route = potential_route\n",
    "\n",
    "        # return the best score from this passenger forward added to current best score\n",
    "        return max_score + score, best_route\n",
    "\n",
    "    # Return the best route from all the passengers\n",
    "    return best(initial_neighbors)\n",
    "\n"
   ]
  },
  {
   "cell_type": "code",
   "execution_count": 206,
   "id": "f70959aa",
   "metadata": {},
   "outputs": [],
   "source": [
    "\n",
    "def maximum_taxi_earnings(n, rides):\n",
    "    \"\"\"Calculates the maximum taxi earnings for a given list of rides.\"\"\"\n",
    "    # Time complexity: O(number of passengers),  O(n^2)\n",
    "\n",
    "    # Sort rides according to origin ascending, then by destination\n",
    "    rides = sorted([(x[0], x[1], x[2]) for x in rides], key=lambda x: (x[0], x[1]))\n",
    "\n",
    "    # Calculate passenger benefit\n",
    "    benefits = calculate_passenger_benefit(n, rides)\n",
    "    \n",
    "    # Calculate passenger compatibility\n",
    "    compatibles = passenger_compatibility(rides)\n",
    "    \n",
    "    # Calculate passenger node table\n",
    "    node_table = passenger_node_table(benefits, compatibles)\n",
    "    \n",
    "    # Calculate best route\n",
    "    biggest_money, best_route = get_best_route(benefits, node_table)\n",
    "    \n",
    "    # Return the biggest money\n",
    "    return biggest_money\n"
   ]
  },
  {
   "cell_type": "code",
   "execution_count": null,
   "id": "73c43527",
   "metadata": {},
   "outputs": [],
   "source": []
  },
  {
   "cell_type": "markdown",
   "id": "aec0d70a",
   "metadata": {},
   "source": [
    "We can test the function by passing the input to it directly or by using the `evaluate_test_case` function from `jovian`."
   ]
  },
  {
   "cell_type": "code",
   "execution_count": 207,
   "id": "5805fe8f",
   "metadata": {},
   "outputs": [],
   "source": [
    "from jovian.pythondsa import evaluate_test_cases"
   ]
  },
  {
   "cell_type": "code",
   "execution_count": 208,
   "id": "b43c3ee1",
   "metadata": {
    "scrolled": false
   },
   "outputs": [
    {
     "name": "stdout",
     "output_type": "stream",
     "text": [
      "\n",
      "\u001b[1mTEST CASE #0\u001b[0m\n",
      "\n",
      "Input:\n",
      "{'n': 5, 'rides': [[2, 5, 4], [1, 5, 1]]}\n",
      "\n",
      "Expected Output:\n",
      "7\n",
      "\n",
      "\n",
      "Actual Output:\n",
      "7\n",
      "\n",
      "Execution Time:\n",
      "0.032 ms\n",
      "\n",
      "Test Result:\n",
      "\u001b[92mPASSED\u001b[0m\n",
      "\n",
      "\n",
      "\u001b[1mTEST CASE #1\u001b[0m\n",
      "\n",
      "Input:\n",
      "{'n': 20, 'rides': [[1, 6, 1], [3, 10, 2], [10, 12, 3], [11, 12, 2], [12, 15, 2], [13, 18, 1]]}\n",
      "\n",
      "Expected Output:\n",
      "20\n",
      "\n",
      "\n",
      "Actual Output:\n",
      "20\n",
      "\n",
      "Execution Time:\n",
      "0.138 ms\n",
      "\n",
      "Test Result:\n",
      "\u001b[92mPASSED\u001b[0m\n",
      "\n",
      "\n",
      "\u001b[1mTEST CASE #2\u001b[0m\n",
      "\n",
      "Input:\n",
      "{'n': 17, 'rides': [[0, 3, 5], [2, 6, 4], [4, 15, 5], [7, 19, 6]]}\n",
      "\n",
      "Expected Output:\n",
      "24\n",
      "\n",
      "\n",
      "Actual Output:\n",
      "24\n",
      "\n",
      "Execution Time:\n",
      "0.039 ms\n",
      "\n",
      "Test Result:\n",
      "\u001b[92mPASSED\u001b[0m\n",
      "\n",
      "\n",
      "\u001b[1mTEST CASE #3\u001b[0m\n",
      "\n",
      "Input:\n",
      "{'n': 12, 'rides': [[1, 13, 3], [2, 16, 6], [5, 18, 6]]}\n",
      "\n",
      "Expected Output:\n",
      "0\n",
      "\n",
      "\n",
      "Actual Output:\n",
      "0\n",
      "\n",
      "Execution Time:\n",
      "0.016 ms\n",
      "\n",
      "Test Result:\n",
      "\u001b[92mPASSED\u001b[0m\n",
      "\n",
      "\n",
      "\u001b[1mTEST CASE #4\u001b[0m\n",
      "\n",
      "Input:\n",
      "{'n': 23, 'rides': [[0, 3, 1], [3, 10, 5], [7, 15, 3], [12, 24, 5]]}\n",
      "\n",
      "Expected Output:\n",
      "16\n",
      "\n",
      "\n",
      "Actual Output:\n",
      "16\n",
      "\n",
      "Execution Time:\n",
      "0.042 ms\n",
      "\n",
      "Test Result:\n",
      "\u001b[92mPASSED\u001b[0m\n",
      "\n",
      "\n",
      "\u001b[1mTEST CASE #5\u001b[0m\n",
      "\n",
      "Input:\n",
      "{'n': 18, 'rides': [[1, 9, 2], [4, 12, 5], [9, 15, 6], [5, 8, 3], [12, 17, 5], [15, 18, 2]]}\n",
      "\n",
      "Expected Output:\n",
      "27\n",
      "\n",
      "\n",
      "Actual Output:\n",
      "27\n",
      "\n",
      "Execution Time:\n",
      "0.07 ms\n",
      "\n",
      "Test Result:\n",
      "\u001b[92mPASSED\u001b[0m\n",
      "\n",
      "\n",
      "\u001b[1mTEST CASE #6\u001b[0m\n",
      "\n",
      "Input:\n",
      "{'n': 19, 'rides': [[0, 5, 3], [5, 10, 5], [8, 12, 1], [10, 13, 4], [13, 18, 4], [14, 19, 3]]}\n",
      "\n",
      "Expected Output:\n",
      "34\n",
      "\n",
      "\n",
      "Actual Output:\n",
      "34\n",
      "\n",
      "Execution Time:\n",
      "0.092 ms\n",
      "\n",
      "Test Result:\n",
      "\u001b[92mPASSED\u001b[0m\n",
      "\n",
      "\n",
      "\u001b[1mTEST CASE #7\u001b[0m\n",
      "\n",
      "Input:\n",
      "{'n': 22, 'rides': [[0, 4, 2], [3, 7, 2], [6, 12, 4], [11, 18, 5], [17, 22, 4], [2, 19, 5]]}\n",
      "\n",
      "Expected Output:\n",
      "25\n",
      "\n",
      "\n",
      "Actual Output:\n",
      "25\n",
      "\n",
      "Execution Time:\n",
      "0.064 ms\n",
      "\n",
      "Test Result:\n",
      "\u001b[92mPASSED\u001b[0m\n",
      "\n",
      "\n",
      "\u001b[1mTEST CASE #8\u001b[0m\n",
      "\n",
      "Input:\n",
      "{'n': 19, 'rides': [[0, 5, 1], [5, 9, 2], [6, 10, 3], [10, 5, 3], [7, 18, 5], [8, 19, 7]]}\n",
      "\n",
      "Expected Output:\n",
      "24\n",
      "\n",
      "\n",
      "Actual Output:\n",
      "24\n",
      "\n",
      "Execution Time:\n",
      "0.051 ms\n",
      "\n",
      "Test Result:\n",
      "\u001b[92mPASSED\u001b[0m\n",
      "\n",
      "\n",
      "\u001b[1mTEST CASE #9\u001b[0m\n",
      "\n",
      "Input:\n",
      "{'n': 20, 'rides': [[1, 6, 1], [3, 10, 2], [3, 10, 2], [10, 12, 3], [11, 12, 2], [12, 15, 2], [13, 1...\n",
      "\n",
      "Expected Output:\n",
      "20\n",
      "\n",
      "\n",
      "Actual Output:\n",
      "20\n",
      "\n",
      "Execution Time:\n",
      "0.081 ms\n",
      "\n",
      "Test Result:\n",
      "\u001b[92mPASSED\u001b[0m\n",
      "\n",
      "\n",
      "\u001b[1mSUMMARY\u001b[0m\n",
      "\n",
      "TOTAL: 10, \u001b[92mPASSED\u001b[0m: 10, \u001b[91mFAILED\u001b[0m: 0\n"
     ]
    },
    {
     "data": {
      "text/plain": [
       "[(7, True, 0.032),\n",
       " (20, True, 0.138),\n",
       " (24, True, 0.039),\n",
       " (0, True, 0.016),\n",
       " (16, True, 0.042),\n",
       " (27, True, 0.07),\n",
       " (34, True, 0.092),\n",
       " (25, True, 0.064),\n",
       " (24, True, 0.051),\n",
       " (20, True, 0.081)]"
      ]
     },
     "execution_count": 208,
     "metadata": {},
     "output_type": "execute_result"
    }
   ],
   "source": [
    "evaluate_test_cases(maximum_taxi_earnings, tests)"
   ]
  },
  {
   "cell_type": "markdown",
   "id": "c62a3c0b",
   "metadata": {},
   "source": [
    "Evaluate your function against all the test cases together using the `evaluate_test_cases` (plural) function from `jovian`."
   ]
  },
  {
   "cell_type": "markdown",
   "id": "86d5834e",
   "metadata": {},
   "source": [
    "Verify that all the test cases were evaluated. We expect them all to fail, since we haven't implemented the function yet.\n",
    "\n",
    "Let's save our work before continuing."
   ]
  },
  {
   "cell_type": "code",
   "execution_count": 209,
   "id": "cb0207a6",
   "metadata": {},
   "outputs": [
    {
     "data": {
      "application/javascript": [
       "window.require && require([\"base/js/namespace\"],function(Jupyter){Jupyter.notebook.save_checkpoint()})"
      ],
      "text/plain": [
       "<IPython.core.display.Javascript object>"
      ]
     },
     "metadata": {},
     "output_type": "display_data"
    },
    {
     "name": "stdout",
     "output_type": "stream",
     "text": [
      "[jovian] Updating notebook \"evanmarie/evan-marie-carr-course-final-project-data-structures-and-algorithms\" on https://jovian.ai\u001b[0m\n",
      "[jovian] Committed successfully! https://jovian.ai/evanmarie/evan-marie-carr-course-final-project-data-structures-and-algorithms\u001b[0m\n"
     ]
    },
    {
     "data": {
      "text/plain": [
       "'https://jovian.ai/evanmarie/evan-marie-carr-course-final-project-data-structures-and-algorithms'"
      ]
     },
     "execution_count": 209,
     "metadata": {},
     "output_type": "execute_result"
    }
   ],
   "source": [
    "jovian.commit()"
   ]
  },
  {
   "cell_type": "markdown",
   "id": "4b1f6117",
   "metadata": {},
   "source": [
    "## 5. Analyze the algorithm's complexity and identify inefficiencies, if any."
   ]
  },
  {
   "cell_type": "markdown",
   "id": "ea820a68",
   "metadata": {},
   "source": [
    "### TIME COMPLEXITY:  for brute force approach above, it comes to approximately  O(n^3) due to the repetitive, recursive calculations that must be done comparing all passengers to all other passengers as we progress down the length of n"
   ]
  },
  {
   "cell_type": "code",
   "execution_count": 210,
   "id": "7f753da4",
   "metadata": {},
   "outputs": [
    {
     "data": {
      "application/javascript": [
       "window.require && require([\"base/js/namespace\"],function(Jupyter){Jupyter.notebook.save_checkpoint()})"
      ],
      "text/plain": [
       "<IPython.core.display.Javascript object>"
      ]
     },
     "metadata": {},
     "output_type": "display_data"
    },
    {
     "name": "stdout",
     "output_type": "stream",
     "text": [
      "[jovian] Updating notebook \"evanmarie/evan-marie-carr-course-final-project-data-structures-and-algorithms\" on https://jovian.ai\u001b[0m\n",
      "[jovian] Committed successfully! https://jovian.ai/evanmarie/evan-marie-carr-course-final-project-data-structures-and-algorithms\u001b[0m\n"
     ]
    },
    {
     "data": {
      "text/plain": [
       "'https://jovian.ai/evanmarie/evan-marie-carr-course-final-project-data-structures-and-algorithms'"
      ]
     },
     "execution_count": 210,
     "metadata": {},
     "output_type": "execute_result"
    }
   ],
   "source": [
    "jovian.commit()"
   ]
  },
  {
   "cell_type": "markdown",
   "id": "579782df",
   "metadata": {},
   "source": [
    "### 6. Apply the right technique to overcome the inefficiency. Repeat steps 3 to 6."
   ]
  },
  {
   "cell_type": "markdown",
   "id": "1c46cce0",
   "metadata": {},
   "source": [
    "### 7. Come up with a correct solution for the problem. State it in plain English.\n",
    "\n",
    "Come with the optimized correct solution and explain it in simple words below:\n",
    "\n",
    "1. Implementing memoization would make for far fewer calculations\n",
    "2. Maintain a cache of computations to cut down on time complexity in building best path.\n",
    "\n",
    "\n"
   ]
  },
  {
   "cell_type": "markdown",
   "id": "c74b95a9",
   "metadata": {},
   "source": [
    "### 8. Implement the solution and test it using example inputs. Fix bugs, if any."
   ]
  },
  {
   "cell_type": "code",
   "execution_count": 213,
   "id": "13db64e0",
   "metadata": {},
   "outputs": [],
   "source": [
    "def calculate_passenger_benefit(n, rides):\n",
    "    '''Calculates the monetary benefit of each passenger itself, irrespective of other passengers'''\n",
    "    # Dictionary to store the info about each passenger plus their benefit\n",
    "    passenger_benefits = {}\n",
    "    \n",
    "    # Loop through passengers, creating dictionary\n",
    "    for passenger in rides:\n",
    "        \n",
    "        # If the passenger is going the right direction and does not exceed driver's allowed end point\n",
    "        if passenger[1] - passenger[0] >= 0 and passenger[1] <= n:\n",
    "            \n",
    "            # If passengers are identical, do not add the duplicate\n",
    "            if passenger not in passenger_benefits:\n",
    "                \n",
    "                passenger_benefits[passenger] = passenger[1] - passenger[0] + passenger[2]\n",
    "    return passenger_benefits"
   ]
  },
  {
   "cell_type": "code",
   "execution_count": 214,
   "id": "037daf66",
   "metadata": {},
   "outputs": [],
   "source": [
    "def passenger_compatibility(rides):\n",
    "    \"\"\"Determines the compatibility of passengers within the rides list, connecting those that\n",
    "    do not overlap with a compatibility edge.\"\"\"\n",
    "\n",
    "    # List of passengers whose routes are compatible with one another and can be considered\n",
    "    # for the best route\n",
    "    compatibles = []\n",
    "    \n",
    "    # Loop through rides and check whether or not the passenger at the current index is\n",
    "    # compatible with the rest of the passengers in the prospective passengers list, rides.\n",
    "    for index_1, passenger_1 in enumerate(rides):\n",
    "        for index_2, passenger_2 in enumerate(rides[index_1 + 1:]):\n",
    "            if not (passenger_1[0] < passenger_2[0] < passenger_1[1] or\n",
    "                    passenger_1[0] < passenger_2[1] < passenger_1[1] or\n",
    "                    passenger_2[0] < passenger_1[1] < passenger_2[1]):\n",
    "                \n",
    "                # If passengers are compatible, append compatibles with a tuple containing\n",
    "                # the two\n",
    "                compatibles.append((passenger_1, passenger_2))\n",
    "    return compatibles\n"
   ]
  },
  {
   "cell_type": "code",
   "execution_count": 215,
   "id": "deb94fc8",
   "metadata": {},
   "outputs": [],
   "source": [
    "def passenger_node_table(passenger_benefits, compatibles):\n",
    "    \"\"\"Constructs the node table for the passengers.\"\"\"\n",
    "\n",
    "    # Dictionary with key, passenger, with values which are dictionaries with key, neighbor,\n",
    "    # and value, neighbor benefit\n",
    "    passenger_neighbors = {}\n",
    "\n",
    "    # Loop through passengers in the benefits list\n",
    "    for passenger in passenger_benefits:\n",
    "\n",
    "        # The values inside of passenger_neighbors will be dictionaries with neighbors as keys\n",
    "        # and the calculated benefit of that neighbor as a segment of the driver's route\n",
    "        passenger_neighbors[passenger] = {}\n",
    "\n",
    "        # Looping through the edges (compatibilities between passengers)\n",
    "        for edge in compatibles:\n",
    "\n",
    "            # If this passenger has a compatibility with another, add it as a neighbor to the\n",
    "            # if neighbor and passenger are not the same passenger\n",
    "            if passenger in edge:\n",
    "                try:\n",
    "                    passenger_neighbors[passenger].update({neighbor: passenger_benefits[neighbor]\n",
    "                                                       for neighbor in edge if neighbor != passenger and\n",
    "                                                       neighbor[0] >= passenger[0]})\n",
    "                except KeyError:\n",
    "                    pass\n",
    "\n",
    "    return passenger_neighbors\n"
   ]
  },
  {
   "cell_type": "code",
   "execution_count": 216,
   "id": "f4407038",
   "metadata": {},
   "outputs": [],
   "source": [
    "def get_best_route_optimized(initial_neighbors, node_table):\n",
    "    \"\"\"Take the passenger_benefits and node_table and construct and choose the best route.\"\"\"\n",
    "\n",
    "    # starting from current passenger being considered, what is the sub-route score,\n",
    "    # allowing for cache and optimization of big O\n",
    "    sub_route_score = {}\n",
    "\n",
    "    def best(neighbors, score=0, route=()):\n",
    "        \"\"\"Recursive function to find the best route.\"\"\"\n",
    "        max_score = 0\n",
    "        best_route = tuple()\n",
    "\n",
    "        # If this is the last passenger, return the score of this passenger\n",
    "        if len(neighbors) == 0:\n",
    "            return score, route\n",
    "\n",
    "        # Looping through the neighbors of the passenger to find the one\n",
    "        # offering the best route forward\n",
    "        for neighbor in neighbors:\n",
    "            # If this neighbor is already in the cache, use the cached value\n",
    "            try:\n",
    "                potential, potential_route = sub_route_score[neighbor]\n",
    "            except KeyError:\n",
    "\n",
    "                # If they are not in there, calculate the score of the neighbor\n",
    "                potential, potential_route = best(node_table[neighbor], neighbors[neighbor], route + (neighbor,))\n",
    "                # Saving score from this point forward on the route\n",
    "                sub_route_score[neighbor] = (potential, potential_route)\n",
    "\n",
    "            # if the potential score with this neighbor is greater than the max score,\n",
    "            # set the max score to the potential and add to the best route\n",
    "            if potential > max_score:\n",
    "                max_score = potential\n",
    "                best_route = potential_route\n",
    "\n",
    "        # return the best score from this passenger forward added to current best score\n",
    "        return max_score + score, best_route\n",
    "\n",
    "    # Return the best route from all the passengers\n",
    "    return best(initial_neighbors)\n"
   ]
  },
  {
   "cell_type": "code",
   "execution_count": 217,
   "id": "208d42a5",
   "metadata": {},
   "outputs": [],
   "source": [
    "def maximum_taxi_earnings_optimized(n, rides):\n",
    "    \"\"\"Calculates the maximum taxi earnings for a given list of rides.\"\"\"\n",
    "    # Time complexity: O(number of passengers),  O(n^2)\n",
    "\n",
    "    # Sort rides according to origin ascending, then by destination\n",
    "    rides = sorted([(x[0], x[1], x[2]) for x in rides], key=lambda x: (x[0], x[1]))\n",
    "\n",
    "    # Calculate passenger benefit\n",
    "    benefits = calculate_passenger_benefit(n, rides)\n",
    "\n",
    "    # Calculate passenger compatibility\n",
    "    compatibles = passenger_compatibility(rides)\n",
    "\n",
    "    # Calculate passenger node table\n",
    "    node_table = passenger_node_table(benefits, compatibles)\n",
    "\n",
    "\n",
    "    # Calculate best route\n",
    "    biggest_money, best_route = get_best_route_optimized(benefits, node_table)\n",
    "\n",
    "    # Return the biggest money\n",
    "    return biggest_money\n"
   ]
  },
  {
   "cell_type": "code",
   "execution_count": 218,
   "id": "279e12ae",
   "metadata": {},
   "outputs": [
    {
     "name": "stdout",
     "output_type": "stream",
     "text": [
      "\n",
      "\u001b[1mTEST CASE #0\u001b[0m\n",
      "\n",
      "Input:\n",
      "{'n': 5, 'rides': [[2, 5, 4], [1, 5, 1]]}\n",
      "\n",
      "Expected Output:\n",
      "7\n",
      "\n",
      "\n",
      "Actual Output:\n",
      "7\n",
      "\n",
      "Execution Time:\n",
      "0.032 ms\n",
      "\n",
      "Test Result:\n",
      "\u001b[92mPASSED\u001b[0m\n",
      "\n",
      "\n",
      "\u001b[1mTEST CASE #1\u001b[0m\n",
      "\n",
      "Input:\n",
      "{'n': 20, 'rides': [[1, 6, 1], [3, 10, 2], [10, 12, 3], [11, 12, 2], [12, 15, 2], [13, 18, 1]]}\n",
      "\n",
      "Expected Output:\n",
      "20\n",
      "\n",
      "\n",
      "Actual Output:\n",
      "20\n",
      "\n",
      "Execution Time:\n",
      "0.087 ms\n",
      "\n",
      "Test Result:\n",
      "\u001b[92mPASSED\u001b[0m\n",
      "\n",
      "\n",
      "\u001b[1mTEST CASE #2\u001b[0m\n",
      "\n",
      "Input:\n",
      "{'n': 17, 'rides': [[0, 3, 5], [2, 6, 4], [4, 15, 5], [7, 19, 6]]}\n",
      "\n",
      "Expected Output:\n",
      "24\n",
      "\n",
      "\n",
      "Actual Output:\n",
      "24\n",
      "\n",
      "Execution Time:\n",
      "0.04 ms\n",
      "\n",
      "Test Result:\n",
      "\u001b[92mPASSED\u001b[0m\n",
      "\n",
      "\n",
      "\u001b[1mTEST CASE #3\u001b[0m\n",
      "\n",
      "Input:\n",
      "{'n': 12, 'rides': [[1, 13, 3], [2, 16, 6], [5, 18, 6]]}\n",
      "\n",
      "Expected Output:\n",
      "0\n",
      "\n",
      "\n",
      "Actual Output:\n",
      "0\n",
      "\n",
      "Execution Time:\n",
      "0.111 ms\n",
      "\n",
      "Test Result:\n",
      "\u001b[92mPASSED\u001b[0m\n",
      "\n",
      "\n",
      "\u001b[1mTEST CASE #4\u001b[0m\n",
      "\n",
      "Input:\n",
      "{'n': 23, 'rides': [[0, 3, 1], [3, 10, 5], [7, 15, 3], [12, 24, 5]]}\n",
      "\n",
      "Expected Output:\n",
      "16\n",
      "\n",
      "\n",
      "Actual Output:\n",
      "16\n",
      "\n",
      "Execution Time:\n",
      "0.044 ms\n",
      "\n",
      "Test Result:\n",
      "\u001b[92mPASSED\u001b[0m\n",
      "\n",
      "\n",
      "\u001b[1mTEST CASE #5\u001b[0m\n",
      "\n",
      "Input:\n",
      "{'n': 18, 'rides': [[1, 9, 2], [4, 12, 5], [9, 15, 6], [5, 8, 3], [12, 17, 5], [15, 18, 2]]}\n",
      "\n",
      "Expected Output:\n",
      "27\n",
      "\n",
      "\n",
      "Actual Output:\n",
      "27\n",
      "\n",
      "Execution Time:\n",
      "0.074 ms\n",
      "\n",
      "Test Result:\n",
      "\u001b[92mPASSED\u001b[0m\n",
      "\n",
      "\n",
      "\u001b[1mTEST CASE #6\u001b[0m\n",
      "\n",
      "Input:\n",
      "{'n': 19, 'rides': [[0, 5, 3], [5, 10, 5], [8, 12, 1], [10, 13, 4], [13, 18, 4], [14, 19, 3]]}\n",
      "\n",
      "Expected Output:\n",
      "34\n",
      "\n",
      "\n",
      "Actual Output:\n",
      "34\n",
      "\n",
      "Execution Time:\n",
      "0.078 ms\n",
      "\n",
      "Test Result:\n",
      "\u001b[92mPASSED\u001b[0m\n",
      "\n",
      "\n",
      "\u001b[1mTEST CASE #7\u001b[0m\n",
      "\n",
      "Input:\n",
      "{'n': 22, 'rides': [[0, 4, 2], [3, 7, 2], [6, 12, 4], [11, 18, 5], [17, 22, 4], [2, 19, 5]]}\n",
      "\n",
      "Expected Output:\n",
      "25\n",
      "\n",
      "\n",
      "Actual Output:\n",
      "25\n",
      "\n",
      "Execution Time:\n",
      "0.077 ms\n",
      "\n",
      "Test Result:\n",
      "\u001b[92mPASSED\u001b[0m\n",
      "\n",
      "\n",
      "\u001b[1mTEST CASE #8\u001b[0m\n",
      "\n",
      "Input:\n",
      "{'n': 19, 'rides': [[0, 5, 1], [5, 9, 2], [6, 10, 3], [10, 5, 3], [7, 18, 5], [8, 19, 7]]}\n",
      "\n",
      "Expected Output:\n",
      "24\n",
      "\n",
      "\n",
      "Actual Output:\n",
      "24\n",
      "\n",
      "Execution Time:\n",
      "0.063 ms\n",
      "\n",
      "Test Result:\n",
      "\u001b[92mPASSED\u001b[0m\n",
      "\n",
      "\n",
      "\u001b[1mTEST CASE #9\u001b[0m\n",
      "\n",
      "Input:\n",
      "{'n': 20, 'rides': [[1, 6, 1], [3, 10, 2], [3, 10, 2], [10, 12, 3], [11, 12, 2], [12, 15, 2], [13, 1...\n",
      "\n",
      "Expected Output:\n",
      "20\n",
      "\n",
      "\n",
      "Actual Output:\n",
      "20\n",
      "\n",
      "Execution Time:\n",
      "0.087 ms\n",
      "\n",
      "Test Result:\n",
      "\u001b[92mPASSED\u001b[0m\n",
      "\n",
      "\n",
      "\u001b[1mSUMMARY\u001b[0m\n",
      "\n",
      "TOTAL: 10, \u001b[92mPASSED\u001b[0m: 10, \u001b[91mFAILED\u001b[0m: 0\n"
     ]
    },
    {
     "data": {
      "text/plain": [
       "[(7, True, 0.032),\n",
       " (20, True, 0.087),\n",
       " (24, True, 0.04),\n",
       " (0, True, 0.111),\n",
       " (16, True, 0.044),\n",
       " (27, True, 0.074),\n",
       " (34, True, 0.078),\n",
       " (25, True, 0.077),\n",
       " (24, True, 0.063),\n",
       " (20, True, 0.087)]"
      ]
     },
     "execution_count": 218,
     "metadata": {},
     "output_type": "execute_result"
    }
   ],
   "source": [
    "evaluate_test_cases(maximum_taxi_earnings_optimized, tests)"
   ]
  },
  {
   "cell_type": "code",
   "execution_count": 219,
   "id": "cffd2adc",
   "metadata": {},
   "outputs": [
    {
     "data": {
      "application/javascript": [
       "window.require && require([\"base/js/namespace\"],function(Jupyter){Jupyter.notebook.save_checkpoint()})"
      ],
      "text/plain": [
       "<IPython.core.display.Javascript object>"
      ]
     },
     "metadata": {},
     "output_type": "display_data"
    },
    {
     "name": "stdout",
     "output_type": "stream",
     "text": [
      "[jovian] Updating notebook \"evanmarie/evan-marie-carr-course-final-project-data-structures-and-algorithms\" on https://jovian.ai\u001b[0m\n",
      "[jovian] Committed successfully! https://jovian.ai/evanmarie/evan-marie-carr-course-final-project-data-structures-and-algorithms\u001b[0m\n"
     ]
    },
    {
     "data": {
      "text/plain": [
       "'https://jovian.ai/evanmarie/evan-marie-carr-course-final-project-data-structures-and-algorithms'"
      ]
     },
     "execution_count": 219,
     "metadata": {},
     "output_type": "execute_result"
    }
   ],
   "source": [
    "jovian.commit()"
   ]
  },
  {
   "cell_type": "code",
   "execution_count": 220,
   "id": "30906faf",
   "metadata": {
    "scrolled": true
   },
   "outputs": [
    {
     "data": {
      "application/javascript": [
       "window.require && require([\"base/js/namespace\"],function(Jupyter){Jupyter.notebook.save_checkpoint()})"
      ],
      "text/plain": [
       "<IPython.core.display.Javascript object>"
      ]
     },
     "metadata": {},
     "output_type": "display_data"
    },
    {
     "name": "stdout",
     "output_type": "stream",
     "text": [
      "[jovian] Updating notebook \"evanmarie/evan-marie-carr-course-final-project-data-structures-and-algorithms\" on https://jovian.ai\u001b[0m\n",
      "[jovian] Committed successfully! https://jovian.ai/evanmarie/evan-marie-carr-course-final-project-data-structures-and-algorithms\u001b[0m\n"
     ]
    },
    {
     "data": {
      "text/plain": [
       "'https://jovian.ai/evanmarie/evan-marie-carr-course-final-project-data-structures-and-algorithms'"
      ]
     },
     "execution_count": 220,
     "metadata": {},
     "output_type": "execute_result"
    }
   ],
   "source": [
    "jovian.commit()"
   ]
  },
  {
   "cell_type": "markdown",
   "id": "5f44a8c5",
   "metadata": {},
   "source": [
    "### 9. Analyze the algorithm's complexity and identify inefficiencies, if any."
   ]
  },
  {
   "cell_type": "markdown",
   "id": "239c8125",
   "metadata": {},
   "source": [
    "### TIME COMPLEXITY:  for the optimized memoization approach above, it comes to approximately  O(n^1.6) due to using a cache of calculations and referring to them before doing further calculations as to omit duplicate computation. So the memoization approach is approximately 2 times as fast as the brute force approach first implemented"
   ]
  },
  {
   "cell_type": "markdown",
   "id": "c571c900",
   "metadata": {},
   "source": [
    "If you found the problem on an external platform, you can make a submission to test your solution.\n",
    "\n",
    "Share your approach and start a discussion on the Jovian forum: https://jovian.ai/forum/c/data-structures-and-algorithms-in-python/78"
   ]
  },
  {
   "cell_type": "code",
   "execution_count": null,
   "id": "f784d197",
   "metadata": {},
   "outputs": [
    {
     "data": {
      "application/javascript": [
       "window.require && require([\"base/js/namespace\"],function(Jupyter){Jupyter.notebook.save_checkpoint()})"
      ],
      "text/plain": [
       "<IPython.core.display.Javascript object>"
      ]
     },
     "metadata": {},
     "output_type": "display_data"
    },
    {
     "name": "stdout",
     "output_type": "stream",
     "text": [
      "[jovian] Attempting to save notebook..\u001b[0m\n"
     ]
    }
   ],
   "source": [
    "jovian.commit()"
   ]
  }
 ],
 "metadata": {
  "kernelspec": {
   "display_name": "Python 3 (ipykernel)",
   "language": "python",
   "name": "python3"
  },
  "language_info": {
   "codemirror_mode": {
    "name": "ipython",
    "version": 3
   },
   "file_extension": ".py",
   "mimetype": "text/x-python",
   "name": "python",
   "nbconvert_exporter": "python",
   "pygments_lexer": "ipython3",
   "version": "3.9.6"
  }
 },
 "nbformat": 4,
 "nbformat_minor": 5
}
